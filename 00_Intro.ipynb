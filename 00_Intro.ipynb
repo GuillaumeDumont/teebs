{
 "metadata": {
  "name": "",
  "signature": "sha256:905f76eb67986d8e6e687be381da13ee9d28d46c2b6bee797f5535a66eaa6a1e"
 },
 "nbformat": 3,
 "nbformat_minor": 0,
 "worksheets": [
  {
   "cells": [
    {
     "cell_type": "heading",
     "level": 1,
     "metadata": {},
     "source": [
      "1- What is Python?"
     ]
    },
    {
     "cell_type": "heading",
     "level": 2,
     "metadata": {},
     "source": [
      "Interpreted vs. compiled"
     ]
    },
    {
     "cell_type": "markdown",
     "metadata": {},
     "source": [
      "![caption](00_content/compiler-vs-interp.jpg)"
     ]
    },
    {
     "cell_type": "heading",
     "level": 3,
     "metadata": {},
     "source": [
      "Compiled language (C / C++ / etc..)"
     ]
    },
    {
     "cell_type": "markdown",
     "metadata": {},
     "source": [
      "**Pros**\n",
      "- Very fast (direct CPU instruction)\n",
      "- Very robust (verifications done during compilation)\n",
      "\n",
      "** Cons **\n",
      "- Slow and tedious to write\n",
      "- Compiled for a specific CPU\n"
     ]
    },
    {
     "cell_type": "heading",
     "level": 3,
     "metadata": {},
     "source": [
      "Interpreted language (Python / Ruby / Javascript / etc...)"
     ]
    },
    {
     "cell_type": "markdown",
     "metadata": {},
     "source": [
      "**Pros**\n",
      "- Fast to write and easy to use\n",
      "- Flexible language\n",
      "- Work everywhere\n",
      "\n",
      "** Cons **\n",
      "- Slower\n",
      "- Less robust (verifications done on the fly)\n"
     ]
    },
    {
     "cell_type": "heading",
     "level": 2,
     "metadata": {},
     "source": [
      "Interactive/Normal mode"
     ]
    },
    {
     "cell_type": "markdown",
     "metadata": {},
     "source": [
      "Python has two basic modes: normal and interactive. The normal mode is the mode where the scripted and finished ``.py`` files are run in the Python interpreter. Interactive mode is a command line shell which gives immediate feedback for each statement, while running previously fed statements in active memory. As new lines are fed into the interpreter, the fed program is evaluated both in part and in whole."
     ]
    },
    {
     "cell_type": "code",
     "collapsed": false,
     "input": [],
     "language": "python",
     "metadata": {},
     "outputs": []
    }
   ],
   "metadata": {}
  }
 ]
}