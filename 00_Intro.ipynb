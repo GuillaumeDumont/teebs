{
 "metadata": {
  "name": "",
  "signature": "sha256:28107a876a13ff29a2c414b262aa1165a93a79fdde9e67bc48ac910aafb69a7c"
 },
 "nbformat": 3,
 "nbformat_minor": 0,
 "worksheets": [
  {
   "cells": [
    {
     "cell_type": "heading",
     "level": 1,
     "metadata": {},
     "source": [
      "1- What is Python?"
     ]
    },
    {
     "cell_type": "heading",
     "level": 2,
     "metadata": {},
     "source": [
      "Interpreted vs. compiled"
     ]
    },
    {
     "cell_type": "markdown",
     "metadata": {},
     "source": [
      "![caption](compiler-vs-interp.jpg)"
     ]
    },
    {
     "cell_type": "heading",
     "level": 3,
     "metadata": {},
     "source": [
      "Compiled language (C / C++ / etc..)"
     ]
    },
    {
     "cell_type": "markdown",
     "metadata": {},
     "source": [
      "**Pros**\n",
      "- Very fast (direct CPU instruction)\n",
      "- Very robust (verifications done during compilation)\n",
      "\n",
      "** Cons **\n",
      "- Slow and tedious to write\n",
      "- Compiled for a specific CPU\n"
     ]
    },
    {
     "cell_type": "heading",
     "level": 3,
     "metadata": {},
     "source": [
      "Interpreted language (Python / Ruby / Javascript / etc...)"
     ]
    },
    {
     "cell_type": "markdown",
     "metadata": {},
     "source": [
      "**Pros**\n",
      "- Fast to write and easy to use\n",
      "- Flexible language\n",
      "- Work everywhere\n",
      "\n",
      "** Cons **\n",
      "- Slower\n",
      "- Less robust (verifications done on the fly)\n"
     ]
    },
    {
     "cell_type": "heading",
     "level": 2,
     "metadata": {},
     "source": [
      "Interactive/Normal mode"
     ]
    },
    {
     "cell_type": "markdown",
     "metadata": {},
     "source": [
      "Python has two basic modes: normal and interactive. The normal mode is the mode where the scripted and finished ``.py`` files are run in the Python interpreter. Interactive mode is a command line shell which gives immediate feedback for each statement, while running previously fed statements in active memory. As new lines are fed into the interpreter, the fed program is evaluated both in part and in whole."
     ]
    },
    {
     "cell_type": "heading",
     "level": 1,
     "metadata": {},
     "source": [
      "2- Let's dive in"
     ]
    },
    {
     "cell_type": "heading",
     "level": 2,
     "metadata": {},
     "source": [
      "Terminology"
     ]
    },
    {
     "cell_type": "markdown",
     "metadata": {},
     "source": [
      "- Values"
     ]
    },
    {
     "cell_type": "code",
     "collapsed": false,
     "input": [
      "1, 1.5, 'Hello', False, None"
     ],
     "language": "python",
     "metadata": {},
     "outputs": [
      {
       "metadata": {},
       "output_type": "pyout",
       "prompt_number": 55,
       "text": [
        "(1, 1.5, 'Hello', False, None)"
       ]
      }
     ],
     "prompt_number": 55
    },
    {
     "cell_type": "markdown",
     "metadata": {},
     "source": [
      "- Expressions"
     ]
    },
    {
     "cell_type": "code",
     "collapsed": false,
     "input": [
      "(1.5 + 1.5) * 2"
     ],
     "language": "python",
     "metadata": {},
     "outputs": [
      {
       "metadata": {},
       "output_type": "pyout",
       "prompt_number": 6,
       "text": [
        "6.0"
       ]
      }
     ],
     "prompt_number": 6
    },
    {
     "cell_type": "markdown",
     "metadata": {},
     "source": [
      "- Types"
     ]
    },
    {
     "cell_type": "code",
     "collapsed": false,
     "input": [
      "type(1), type(1.5), type('Hello'), type(True), type(None)"
     ],
     "language": "python",
     "metadata": {},
     "outputs": [
      {
       "metadata": {},
       "output_type": "pyout",
       "prompt_number": 56,
       "text": [
        "(int, float, str, bool, NoneType)"
       ]
      }
     ],
     "prompt_number": 56
    },
    {
     "cell_type": "markdown",
     "metadata": {},
     "source": [
      "- Variables"
     ]
    },
    {
     "cell_type": "code",
     "collapsed": false,
     "input": [
      "a = 1\n",
      "b = 1.5\n",
      "c = 'Hello'\n",
      "print(a)\n",
      "print(b)\n",
      "print(c)\n",
      "a = 2 + b\n",
      "print(a)"
     ],
     "language": "python",
     "metadata": {},
     "outputs": [
      {
       "output_type": "stream",
       "stream": "stdout",
       "text": [
        "1\n",
        "1.5\n",
        "Hello\n",
        "3.5\n"
       ]
      }
     ],
     "prompt_number": 3
    },
    {
     "cell_type": "markdown",
     "metadata": {},
     "source": [
      "- Comments"
     ]
    },
    {
     "cell_type": "code",
     "collapsed": false,
     "input": [
      "# Comments are pieces of text ignored by the interpreter and are designed for developer notes\n",
      "# A line starting with a '#' symbol will be considered a comment"
     ],
     "language": "python",
     "metadata": {},
     "outputs": [],
     "prompt_number": 15
    },
    {
     "cell_type": "markdown",
     "metadata": {},
     "source": [
      "**Mixing up**"
     ]
    },
    {
     "cell_type": "code",
     "collapsed": false,
     "input": [
      "a = 1\n",
      "b = a + 1.6\n",
      "print('b =', b)\n",
      "print('type of a:', type(a))\n",
      "print('type of b:', type(b))"
     ],
     "language": "python",
     "metadata": {},
     "outputs": [
      {
       "output_type": "stream",
       "stream": "stdout",
       "text": [
        "b = 2.6\n",
        "type of a: <class 'int'>\n",
        "type of b: <class 'float'>\n"
       ]
      }
     ],
     "prompt_number": 4
    },
    {
     "cell_type": "code",
     "collapsed": false,
     "input": [
      "print('a=', 1, ' b=', 2)"
     ],
     "language": "python",
     "metadata": {},
     "outputs": [
      {
       "output_type": "stream",
       "stream": "stdout",
       "text": [
        "a= 1  b= 2\n"
       ]
      }
     ],
     "prompt_number": 10
    },
    {
     "cell_type": "heading",
     "level": 2,
     "metadata": {},
     "source": [
      "Numbers"
     ]
    },
    {
     "cell_type": "code",
     "collapsed": false,
     "input": [
      ">>> 2 + 2\n",
      "4\n",
      ">>> 50 - 5*6\n",
      "20\n",
      ">>> (50 - 5*6) / 4\n",
      "5.0\n",
      ">>> 8 / 5  # division always returns a floating point number\n",
      "1.6"
     ],
     "language": "python",
     "metadata": {},
     "outputs": [
      {
       "metadata": {},
       "output_type": "pyout",
       "prompt_number": 16,
       "text": [
        "1.6"
       ]
      }
     ],
     "prompt_number": 16
    },
    {
     "cell_type": "code",
     "collapsed": false,
     "input": [
      ">>> 17 / 3  # classic division returns a float\n",
      "5.666666666666667\n",
      ">>>\n",
      ">>> 17 // 3  # floor division discards the fractional part\n",
      "5\n",
      ">>> 17 % 3  # the % operator returns the remainder of the division\n",
      "2\n",
      ">>> 5 * 3 + 2  # result * divisor + remainder\n",
      "17"
     ],
     "language": "python",
     "metadata": {},
     "outputs": [
      {
       "metadata": {},
       "output_type": "pyout",
       "prompt_number": 11,
       "text": [
        "17"
       ]
      }
     ],
     "prompt_number": 11
    },
    {
     "cell_type": "markdown",
     "metadata": {},
     "source": [
      "3 * 5 + 2 = 17"
     ]
    },
    {
     "cell_type": "code",
     "collapsed": false,
     "input": [
      ">>> 5 ** 2  # 5 squared\n",
      "25\n",
      ">>> 2 ** 7  # 2 to the power of 7\n",
      "128"
     ],
     "language": "python",
     "metadata": {},
     "outputs": [
      {
       "metadata": {},
       "output_type": "pyout",
       "prompt_number": 18,
       "text": [
        "128"
       ]
      }
     ],
     "prompt_number": 18
    },
    {
     "cell_type": "heading",
     "level": 2,
     "metadata": {},
     "source": [
      "Strings"
     ]
    },
    {
     "cell_type": "markdown",
     "metadata": {},
     "source": [
      "Strings are enclosed in single quotes. Special characters must be escaped by putting a backslash in from of it. Special characters are:\n",
      "- single quotes (')\n",
      "- backslash (\\\\)"
     ]
    },
    {
     "cell_type": "code",
     "collapsed": false,
     "input": [
      "print('this is a regular string')"
     ],
     "language": "python",
     "metadata": {},
     "outputs": [
      {
       "output_type": "stream",
       "stream": "stdout",
       "text": [
        "this is a regular string\n"
       ]
      }
     ],
     "prompt_number": 28
    },
    {
     "cell_type": "code",
     "collapsed": false,
     "input": [
      "print('I can use quotes look: \\'   ')"
     ],
     "language": "python",
     "metadata": {},
     "outputs": [
      {
       "output_type": "stream",
       "stream": "stdout",
       "text": [
        "I can use quotes look: '   \n"
       ]
      }
     ],
     "prompt_number": 29
    },
    {
     "cell_type": "code",
     "collapsed": false,
     "input": [
      "print('I can use backslashes: \\\\    ')"
     ],
     "language": "python",
     "metadata": {},
     "outputs": [
      {
       "output_type": "stream",
       "stream": "stdout",
       "text": [
        "I can use backslashes: \\    \n"
       ]
      }
     ],
     "prompt_number": 30
    },
    {
     "cell_type": "code",
     "collapsed": false,
     "input": [
      "print(\"Here is a newline\\n\\n\\n\\n^ Some lines were skipped\")"
     ],
     "language": "python",
     "metadata": {},
     "outputs": [
      {
       "output_type": "stream",
       "stream": "stdout",
       "text": [
        "Here is a newline\n",
        "\n",
        "\n",
        "\n",
        "^ Some lines were skipped\n"
       ]
      }
     ],
     "prompt_number": 32
    },
    {
     "cell_type": "markdown",
     "metadata": {},
     "source": [
      "Strings can be combined"
     ]
    },
    {
     "cell_type": "code",
     "collapsed": false,
     "input": [
      "s = 'This is a' + 'composed string' + ' see?'\n",
      "print(s)"
     ],
     "language": "python",
     "metadata": {},
     "outputs": [
      {
       "output_type": "stream",
       "stream": "stdout",
       "text": [
        "This is acomposed string see?\n"
       ]
      }
     ],
     "prompt_number": 13
    },
    {
     "cell_type": "markdown",
     "metadata": {},
     "source": [
      "String are values and can be assigned to variables"
     ]
    },
    {
     "cell_type": "code",
     "collapsed": false,
     "input": [
      "string1 = 'string number 1'\n",
      "string2 = 'string number 2'\n",
      "print(string1 + ' & ' + string2)"
     ],
     "language": "python",
     "metadata": {},
     "outputs": [
      {
       "output_type": "stream",
       "stream": "stdout",
       "text": [
        "string number 1 & string number 2\n"
       ]
      }
     ],
     "prompt_number": 34
    },
    {
     "cell_type": "markdown",
     "metadata": {},
     "source": [
      "String can be multiplied too!"
     ]
    },
    {
     "cell_type": "code",
     "collapsed": false,
     "input": [
      "string = 'ha' * 10 + ' !'\n",
      "print(string)"
     ],
     "language": "python",
     "metadata": {},
     "outputs": [
      {
       "output_type": "stream",
       "stream": "stdout",
       "text": [
        "hahahahahahahahahaha !\n"
       ]
      }
     ],
     "prompt_number": 38
    },
    {
     "cell_type": "code",
     "collapsed": false,
     "input": [
      "print('''\n",
      "    We can keep the formating by using triple quotes\n",
      "        - All tabs and new lines are kept\n",
      "''')"
     ],
     "language": "python",
     "metadata": {},
     "outputs": [
      {
       "output_type": "stream",
       "stream": "stdout",
       "text": [
        "\n",
        "    We can keep the formating by using triple quotes\n",
        "        - All tabs and new lines are kept\n",
        "\n"
       ]
      },
      {
       "metadata": {},
       "output_type": "pyout",
       "prompt_number": 14,
       "text": [
        "'\\n    We can keep the formating by using triple quotes\\n        - All tabs and new lines are kept\\n'"
       ]
      }
     ],
     "prompt_number": 14
    },
    {
     "cell_type": "markdown",
     "metadata": {},
     "source": [
      "We can access each character"
     ]
    },
    {
     "cell_type": "code",
     "collapsed": false,
     "input": [
      "string = '123456789'\n",
      "print(string[0]) # 1th character\n",
      "print(string[5]) # 6th character\n",
      "print(string[-1]) # last character\n",
      "print(string[-2]) # second to last character"
     ],
     "language": "python",
     "metadata": {},
     "outputs": [
      {
       "output_type": "stream",
       "stream": "stdout",
       "text": [
        "1\n",
        "6\n",
        "9\n",
        "8\n"
       ]
      }
     ],
     "prompt_number": 40
    },
    {
     "cell_type": "markdown",
     "metadata": {},
     "source": [
      "We can also get slices"
     ]
    },
    {
     "cell_type": "code",
     "collapsed": false,
     "input": [
      "string = '123456789'\n",
      "print(string[1:2]) # 2nd and 3rd characters\n",
      "print(string[:2]) # 2 first characters\n",
      "print(string[5:]) # 6th element until the end"
     ],
     "language": "python",
     "metadata": {},
     "outputs": [
      {
       "output_type": "stream",
       "stream": "stdout",
       "text": [
        "2\n",
        "12\n",
        "6789\n"
       ]
      }
     ],
     "prompt_number": 16
    },
    {
     "cell_type": "code",
     "collapsed": false,
     "input": [
      "#  +---+---+---+---+---+---+\n",
      "#  | P | y | t | h | o | n |\n",
      "#  +---+---+---+---+---+---+\n",
      "#  0   1   2   3   4   5   6\n",
      "# -6  -5  -4  -3  -2  -1"
     ],
     "language": "python",
     "metadata": {},
     "outputs": [],
     "prompt_number": 45
    },
    {
     "cell_type": "heading",
     "level": 2,
     "metadata": {},
     "source": [
      "Conditions"
     ]
    },
    {
     "cell_type": "markdown",
     "metadata": {},
     "source": [
      "> >= < <= =="
     ]
    },
    {
     "cell_type": "code",
     "collapsed": false,
     "input": [
      "i = 2\n",
      "if i > 2:\n",
      "    print('This will always be printed')\n",
      "\n",
      "else:\n",
      "    print('This will never be printed')"
     ],
     "language": "python",
     "metadata": {},
     "outputs": [
      {
       "output_type": "stream",
       "stream": "stdout",
       "text": [
        "This will never be printed\n"
       ]
      }
     ],
     "prompt_number": 20
    },
    {
     "cell_type": "code",
     "collapsed": false,
     "input": [
      "age = 15\n",
      "if age < 16:\n",
      "    print('You cant drive')\n",
      "else:\n",
      "    if age < 21:\n",
      "        print('Cant drink')\n",
      "    else:\n",
      "        print('You can drink')"
     ],
     "language": "python",
     "metadata": {},
     "outputs": [
      {
       "output_type": "stream",
       "stream": "stdout",
       "text": [
        "You cant drive\n"
       ]
      }
     ],
     "prompt_number": 23
    },
    {
     "cell_type": "code",
     "collapsed": false,
     "input": [
      "age = 15\n",
      "if age < 16:\n",
      "    print('You cant drive')\n",
      "elif age < 21:\n",
      "    print('Cant drink')\n",
      "else:\n",
      "    print('You can drink')"
     ],
     "language": "python",
     "metadata": {},
     "outputs": [
      {
       "output_type": "stream",
       "stream": "stdout",
       "text": [
        "You cant drive\n"
       ]
      }
     ],
     "prompt_number": 24
    },
    {
     "cell_type": "code",
     "collapsed": false,
     "input": [
      "i = 2\n",
      "if i < 0:\n",
      "    print('this number is negative')\n",
      "elif i == 0:\n",
      "    print('this number is equal to 0')\n",
      "else: # equivalent to `elif i > 0`\n",
      "    print('this number is positive')"
     ],
     "language": "python",
     "metadata": {},
     "outputs": [
      {
       "output_type": "stream",
       "stream": "stdout",
       "text": [
        "this number is positive\n"
       ]
      }
     ],
     "prompt_number": 54
    },
    {
     "cell_type": "code",
     "collapsed": false,
     "input": [
      "\n",
      "if None:\n",
      "    print('i is True')\n",
      "else:\n",
      "    print('i is False')"
     ],
     "language": "python",
     "metadata": {},
     "outputs": [
      {
       "output_type": "stream",
       "stream": "stdout",
       "text": [
        "i is False\n"
       ]
      }
     ],
     "prompt_number": 32
    },
    {
     "cell_type": "heading",
     "level": 2,
     "metadata": {},
     "source": [
      "Interactive input"
     ]
    },
    {
     "cell_type": "markdown",
     "metadata": {},
     "source": [
      "We can ask the user to enter something by using 'input()'"
     ]
    },
    {
     "cell_type": "code",
     "collapsed": false,
     "input": [
      "s = input('Please enter your age:')\n",
      "print('Your age is ', s)"
     ],
     "language": "python",
     "metadata": {},
     "outputs": [
      {
       "name": "stdout",
       "output_type": "stream",
       "stream": "stdout",
       "text": [
        "Please enter your age:hfwkjuhwekjfhwekfjhwekfjhfwkfkjhwkjefh\n"
       ]
      },
      {
       "output_type": "stream",
       "stream": "stdout",
       "text": [
        "Your age is  hfwkjuhwekjfhwekfjhwekfjhfwkfkjhwkjefh\n"
       ]
      }
     ],
     "prompt_number": 40
    },
    {
     "cell_type": "code",
     "collapsed": false,
     "input": [
      "s = int(input('Please enter your age:'))\n",
      "print('2x your age is', s*2)"
     ],
     "language": "python",
     "metadata": {},
     "outputs": [
      {
       "name": "stdout",
       "output_type": "stream",
       "stream": "stdout",
       "text": [
        "Please enter your age:khjfhwkfjhkwefh\n"
       ]
      },
      {
       "ename": "ValueError",
       "evalue": "invalid literal for int() with base 10: 'khjfhwkfjhkwefh'",
       "output_type": "pyerr",
       "traceback": [
        "\u001b[1;31m---------------------------------------------------------------------------\u001b[0m\n\u001b[1;31mValueError\u001b[0m                                Traceback (most recent call last)",
        "\u001b[1;32m<ipython-input-43-55dcf99905bb>\u001b[0m in \u001b[0;36m<module>\u001b[1;34m()\u001b[0m\n\u001b[1;32m----> 1\u001b[1;33m \u001b[0ms\u001b[0m \u001b[1;33m=\u001b[0m \u001b[0mint\u001b[0m\u001b[1;33m(\u001b[0m\u001b[0minput\u001b[0m\u001b[1;33m(\u001b[0m\u001b[1;34m'Please enter your age:'\u001b[0m\u001b[1;33m)\u001b[0m\u001b[1;33m)\u001b[0m\u001b[1;33m\u001b[0m\u001b[0m\n\u001b[0m\u001b[0;32m      2\u001b[0m \u001b[0mprint\u001b[0m\u001b[1;33m(\u001b[0m\u001b[1;34m'2x your age is'\u001b[0m\u001b[1;33m,\u001b[0m \u001b[0ms\u001b[0m\u001b[1;33m*\u001b[0m\u001b[1;36m2\u001b[0m\u001b[1;33m)\u001b[0m\u001b[1;33m\u001b[0m\u001b[0m\n",
        "\u001b[1;31mValueError\u001b[0m: invalid literal for int() with base 10: 'khjfhwkfjhkwefh'"
       ]
      }
     ],
     "prompt_number": 43
    },
    {
     "cell_type": "heading",
     "level": 2,
     "metadata": {},
     "source": [
      "Loop"
     ]
    },
    {
     "cell_type": "code",
     "collapsed": false,
     "input": [
      "i = 10\n",
      "while i > 3:\n",
      "    print('i =', i)\n",
      "    i = i - 1"
     ],
     "language": "python",
     "metadata": {},
     "outputs": [
      {
       "output_type": "stream",
       "stream": "stdout",
       "text": [
        "i = 10\n",
        "i = 9\n",
        "i = 8\n",
        "i = 7\n",
        "i = 6\n",
        "i = 5\n",
        "i = 4\n"
       ]
      }
     ],
     "prompt_number": 37
    },
    {
     "cell_type": "heading",
     "level": 1,
     "metadata": {},
     "source": [
      "Exercises"
     ]
    },
    {
     "cell_type": "markdown",
     "metadata": {},
     "source": [
      "- Multiplication tables\n",
      "- Guess the number (bonus: only a couple tries)\n",
      "- Mean calculation with coeficients\n",
      "- Tree printer. Base of the leave is given by the user. The trunk is half the height of the triangle"
     ]
    },
    {
     "cell_type": "code",
     "collapsed": false,
     "input": [
      "#       *\n",
      "#      ***\n",
      "#     *****\n",
      "#    *******\n",
      "#       *\n",
      "#       *"
     ],
     "language": "python",
     "metadata": {},
     "outputs": [],
     "prompt_number": 8
    },
    {
     "cell_type": "code",
     "collapsed": false,
     "input": [],
     "language": "python",
     "metadata": {},
     "outputs": []
    }
   ],
   "metadata": {}
  }
 ]
}